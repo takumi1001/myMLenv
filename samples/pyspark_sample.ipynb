{
 "cells": [
  {
   "cell_type": "markdown",
   "id": "56741705-4560-4a1c-b30b-64a9cdb9c2b1",
   "metadata": {},
   "source": [
    "# PySpark Sample"
   ]
  },
  {
   "cell_type": "code",
   "execution_count": 1,
   "id": "940809e7-a4a1-4701-bec3-3e9f66980fdf",
   "metadata": {
    "tags": []
   },
   "outputs": [],
   "source": [
    "import findspark\n",
    "findspark.init()"
   ]
  },
  {
   "cell_type": "code",
   "execution_count": 2,
   "id": "f625f118-db83-4aa5-a087-4556c033cb28",
   "metadata": {
    "tags": []
   },
   "outputs": [],
   "source": [
    "from pyspark import SparkConf\n",
    "from pyspark import SparkContext\n",
    "from pyspark.sql import SparkSession "
   ]
  },
  {
   "cell_type": "code",
   "execution_count": 3,
   "id": "679a15e8-32ee-48d6-ae9a-514d162ee1be",
   "metadata": {
    "tags": []
   },
   "outputs": [],
   "source": [
    "spark = SparkSession.builder \\\n",
    "        .appName(\"spark-sample\") \\\n",
    "        .config(\"hive.exec.dynamic.partition\", \"true\") \\\n",
    "        .config(\"hive.exec.dynamic.partition.mode\", \"nonstrict\") \\\n",
    "        .config(\"spark.sql.session.timeZone\", \"JST\") \\\n",
    "        .config(\"spark.ui.enabled\",\"true\") \\\n",
    "        .config(\"spark.eventLog.enabled\",\"true\") \\\n",
    "        .enableHiveSupport() \\\n",
    "        .getOrCreate()"
   ]
  },
  {
   "cell_type": "markdown",
   "id": "8aca4751-c955-459c-a908-d8971a5f8155",
   "metadata": {},
   "source": [
    "接続できていることを確認する"
   ]
  },
  {
   "cell_type": "code",
   "execution_count": 5,
   "id": "82f96597-f5a9-4a57-aafd-f7d68d525c19",
   "metadata": {
    "tags": []
   },
   "outputs": [
    {
     "name": "stdout",
     "output_type": "stream",
     "text": [
      "+---------+---------+-----------+\n",
      "|namespace|tableName|isTemporary|\n",
      "+---------+---------+-----------+\n",
      "+---------+---------+-----------+\n",
      "\n"
     ]
    }
   ],
   "source": [
    "spark.sql(\"show tables\").show() "
   ]
  },
  {
   "cell_type": "code",
   "execution_count": 4,
   "id": "ace9daf3-ddd6-4bbc-b671-f958e055de07",
   "metadata": {
    "tags": []
   },
   "outputs": [],
   "source": [
    "from pyspark.sql import functions as F\n",
    "from pyspark.sql.window import Window as W\n",
    "from pyspark.sql import types as T"
   ]
  },
  {
   "cell_type": "markdown",
   "id": "1069e4a2-b1ae-43eb-9890-f2344de0f70f",
   "metadata": {},
   "source": [
    "サンプルは後で書きます"
   ]
  },
  {
   "cell_type": "markdown",
   "id": "b89701c0-8ea5-4930-8ebc-591617827575",
   "metadata": {},
   "source": [
    "### 終わらせ方"
   ]
  },
  {
   "cell_type": "code",
   "execution_count": 6,
   "id": "d3f36856-392b-4ec3-9bbe-37fc21c6855b",
   "metadata": {
    "tags": []
   },
   "outputs": [],
   "source": [
    "spark.stop()\n",
    "spark.sparkContext.stop()"
   ]
  }
 ],
 "metadata": {
  "kernelspec": {
   "display_name": "Python 3 (ipykernel)",
   "language": "python",
   "name": "python3"
  },
  "language_info": {
   "codemirror_mode": {
    "name": "ipython",
    "version": 3
   },
   "file_extension": ".py",
   "mimetype": "text/x-python",
   "name": "python",
   "nbconvert_exporter": "python",
   "pygments_lexer": "ipython3",
   "version": "3.8.10"
  }
 },
 "nbformat": 4,
 "nbformat_minor": 5
}
