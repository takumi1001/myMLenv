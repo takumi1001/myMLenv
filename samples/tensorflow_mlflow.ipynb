{
 "cells": [
  {
   "cell_type": "markdown",
   "id": "7a3c9030-c919-4f32-9081-5fd307d5c31b",
   "metadata": {},
   "source": [
    "# Tensoflow+MLflow Sample\n",
    " - cifar10データセットを用いて、GPUによるCNN学習・推論を試す\n",
    " - MLflowによる実験結果の記録を試す"
   ]
  },
  {
   "cell_type": "code",
   "execution_count": 57,
   "id": "f347674c-0548-4f8a-91cc-05e30fabe4ae",
   "metadata": {},
   "outputs": [],
   "source": [
    "import tensorflow as tf\n",
    "from tensorflow.keras.models import Sequential\n",
    "from tensorflow.keras.layers import Dense, Dropout, Conv2D, MaxPooling2D, Flatten\n",
    "from tensorflow.keras.utils import to_categorical\n",
    "from tensorflow.keras.optimizers import Adam"
   ]
  },
  {
   "cell_type": "markdown",
   "id": "f9532d29-be79-4bbf-8494-695f369df25c",
   "metadata": {},
   "source": [
    "GPUが利用できるか確認します。"
   ]
  },
  {
   "cell_type": "code",
   "execution_count": 2,
   "id": "fe0fd39e-2efb-4993-b205-e220753ba9d8",
   "metadata": {},
   "outputs": [
    {
     "data": {
      "text/plain": [
       "[name: \"/device:CPU:0\"\n",
       " device_type: \"CPU\"\n",
       " memory_limit: 268435456\n",
       " locality {\n",
       " }\n",
       " incarnation: 6705112052420506027\n",
       " xla_global_id: -1,\n",
       " name: \"/device:GPU:0\"\n",
       " device_type: \"GPU\"\n",
       " memory_limit: 10067378176\n",
       " locality {\n",
       "   bus_id: 1\n",
       "   links {\n",
       "   }\n",
       " }\n",
       " incarnation: 9293249299753412384\n",
       " physical_device_desc: \"device: 0, name: NVIDIA GeForce RTX 3060, pci bus id: 0000:06:00.0, compute capability: 8.6\"\n",
       " xla_global_id: 416903419]"
      ]
     },
     "execution_count": 2,
     "metadata": {},
     "output_type": "execute_result"
    }
   ],
   "source": [
    "from tensorflow.python.client import device_lib\n",
    "device_lib.list_local_devices()"
   ]
  },
  {
   "cell_type": "markdown",
   "id": "27926534-bbc3-4de7-8ce8-ef66de5cb06c",
   "metadata": {},
   "source": [
    "GPUが認識されているのでOK. 認識されていない場合はCUDAやcuDNNの設定を確認すること。"
   ]
  },
  {
   "cell_type": "markdown",
   "id": "b797db27-f545-4039-a74b-000f5051577a",
   "metadata": {},
   "source": [
    "MLflowを有効にします。"
   ]
  },
  {
   "cell_type": "code",
   "execution_count": 3,
   "id": "285ce946-88ef-4064-a3df-d18c448d00ab",
   "metadata": {},
   "outputs": [
    {
     "name": "stderr",
     "output_type": "stream",
     "text": [
      "2023/01/16 00:50:25 INFO mlflow.tracking.fluent: Experiment with name 'cifar10-sample' does not exist. Creating a new experiment.\n"
     ]
    }
   ],
   "source": [
    "import mlflow\n",
    "mlflow.set_experiment(\"cifar10-sample\")\n",
    "mlflow.tensorflow.autolog()"
   ]
  },
  {
   "cell_type": "markdown",
   "id": "ebcec3cf-99ff-4a75-81be-0deb5be2caf0",
   "metadata": {},
   "source": [
    "CIFAR-10データセット―をロードします。"
   ]
  },
  {
   "cell_type": "code",
   "execution_count": 59,
   "id": "60aa1602-489b-4be8-9f61-5ae087d6f46e",
   "metadata": {},
   "outputs": [],
   "source": [
    "(X_train, y_train), (X_test, y_test) = tf.keras.datasets.cifar10.load_data()"
   ]
  },
  {
   "cell_type": "markdown",
   "id": "bf898b9e-818f-4f2f-aed1-42e6835afff5",
   "metadata": {},
   "source": [
    "画像データを正規化します。"
   ]
  },
  {
   "cell_type": "code",
   "execution_count": 60,
   "id": "f92ab790-4ee1-49a2-8cee-52bc05792316",
   "metadata": {},
   "outputs": [],
   "source": [
    "X_train = X_train.astype('float32') / 255\n",
    "X_test = X_test.astype('float32') / 255"
   ]
  },
  {
   "cell_type": "code",
   "execution_count": 61,
   "id": "f9a2f11a-93c6-4b8c-a0db-453665ad99e3",
   "metadata": {},
   "outputs": [
    {
     "data": {
      "text/plain": [
       "(50000, 32, 32, 3)"
      ]
     },
     "execution_count": 61,
     "metadata": {},
     "output_type": "execute_result"
    }
   ],
   "source": [
    "X_train.shape"
   ]
  },
  {
   "cell_type": "markdown",
   "id": "b37c14f6-0286-4b66-80bc-94235cacf73d",
   "metadata": {},
   "source": [
    "正解ラベルをOne-Hot Encodingします。"
   ]
  },
  {
   "cell_type": "code",
   "execution_count": 62,
   "id": "565340ff-5957-47bc-aa7f-382945021861",
   "metadata": {},
   "outputs": [],
   "source": [
    "num_classes = 10 # CIFAR-10は10クラス分類\n",
    "y_train = tf.keras.utils.to_categorical(y_train, num_classes)\n",
    "y_test = tf.keras.utils.to_categorical(y_test, num_classes)"
   ]
  },
  {
   "cell_type": "markdown",
   "id": "4283a05b-7153-4c22-8441-1dd816d84eb4",
   "metadata": {},
   "source": [
    "## モデルの構築\n",
    "CNNを利用した簡単なモデルを作ります。"
   ]
  },
  {
   "cell_type": "code",
   "execution_count": 8,
   "id": "a19d4858-bea9-41a1-83ab-3a4a991716c2",
   "metadata": {},
   "outputs": [],
   "source": [
    "input_shape = (32,32,3)"
   ]
  },
  {
   "cell_type": "code",
   "execution_count": 9,
   "id": "5e4ccebc-6492-40e2-ac78-751d9e3296a1",
   "metadata": {},
   "outputs": [],
   "source": [
    "model = Sequential()\n",
    "\n",
    "model.add(Conv2D(64, (3, 3), padding='same', activation=\"relu\", input_shape=input_shape))\n",
    "model.add(Conv2D(64, (3, 3), activation=\"relu\"))\n",
    "model.add(MaxPooling2D(pool_size=(2, 2)))\n",
    "model.add(Dropout(0.25))\n",
    "\n",
    "model.add(Conv2D(128, (3, 3), padding='same', activation=\"relu\"))\n",
    "model.add(Conv2D(128, (3, 3), activation=\"relu\"))\n",
    "model.add(MaxPooling2D(pool_size=(2, 2)))\n",
    "model.add(Dropout(0.25))\n",
    "\n",
    "model.add(Conv2D(256, (3, 3), padding='same', activation=\"relu\"))\n",
    "model.add(Conv2D(256, (3, 3), activation=\"relu\"))\n",
    "model.add(MaxPooling2D(pool_size=(2, 2)))\n",
    "model.add(Dropout(0.25))\n",
    "\n",
    "# output\n",
    "model.add(Flatten())\n",
    "model.add(Dense(1024, activation=\"relu\"))\n",
    "model.add(Dropout(0.25))\n",
    "model.add(Dense(num_classes, activation=\"softmax\"))"
   ]
  },
  {
   "cell_type": "code",
   "execution_count": 10,
   "id": "2902ecfe-ecbb-4cb7-b119-12d98bd0408a",
   "metadata": {},
   "outputs": [
    {
     "name": "stdout",
     "output_type": "stream",
     "text": [
      "Model: \"sequential\"\n",
      "_________________________________________________________________\n",
      " Layer (type)                Output Shape              Param #   \n",
      "=================================================================\n",
      " conv2d (Conv2D)             (None, 32, 32, 64)        1792      \n",
      "                                                                 \n",
      " conv2d_1 (Conv2D)           (None, 30, 30, 64)        36928     \n",
      "                                                                 \n",
      " max_pooling2d (MaxPooling2D  (None, 15, 15, 64)       0         \n",
      " )                                                               \n",
      "                                                                 \n",
      " dropout (Dropout)           (None, 15, 15, 64)        0         \n",
      "                                                                 \n",
      " conv2d_2 (Conv2D)           (None, 15, 15, 128)       73856     \n",
      "                                                                 \n",
      " conv2d_3 (Conv2D)           (None, 13, 13, 128)       147584    \n",
      "                                                                 \n",
      " max_pooling2d_1 (MaxPooling  (None, 6, 6, 128)        0         \n",
      " 2D)                                                             \n",
      "                                                                 \n",
      " dropout_1 (Dropout)         (None, 6, 6, 128)         0         \n",
      "                                                                 \n",
      " conv2d_4 (Conv2D)           (None, 6, 6, 256)         295168    \n",
      "                                                                 \n",
      " conv2d_5 (Conv2D)           (None, 4, 4, 256)         590080    \n",
      "                                                                 \n",
      " max_pooling2d_2 (MaxPooling  (None, 2, 2, 256)        0         \n",
      " 2D)                                                             \n",
      "                                                                 \n",
      " dropout_2 (Dropout)         (None, 2, 2, 256)         0         \n",
      "                                                                 \n",
      " flatten (Flatten)           (None, 1024)              0         \n",
      "                                                                 \n",
      " dense (Dense)               (None, 1024)              1049600   \n",
      "                                                                 \n",
      " dropout_3 (Dropout)         (None, 1024)              0         \n",
      "                                                                 \n",
      " dense_1 (Dense)             (None, 10)                10250     \n",
      "                                                                 \n",
      "=================================================================\n",
      "Total params: 2,205,258\n",
      "Trainable params: 2,205,258\n",
      "Non-trainable params: 0\n",
      "_________________________________________________________________\n"
     ]
    }
   ],
   "source": [
    "model.summary()"
   ]
  },
  {
   "cell_type": "code",
   "execution_count": 12,
   "id": "bc334b13-1e22-4089-ba6e-01ff8cd67c65",
   "metadata": {},
   "outputs": [],
   "source": [
    "model.compile(\n",
    "    loss=\"categorical_crossentropy\", \n",
    "    optimizer=Adam(),\n",
    "    metrics=[\"accuracy\", \"AUC\"]\n",
    ")"
   ]
  },
  {
   "cell_type": "code",
   "execution_count": 13,
   "id": "82754070-0b1d-4af6-9852-a58ec8fbe64d",
   "metadata": {
    "scrolled": true,
    "tags": []
   },
   "outputs": [
    {
     "name": "stderr",
     "output_type": "stream",
     "text": [
      "2023/01/16 00:51:05 INFO mlflow.utils.autologging_utils: Created MLflow autologging run with ID '3ede8207c71d4620ba18b3fa0e4c0c41', which will track hyperparameters, performance metrics, model artifacts, and lineage information for the current tensorflow workflow\n"
     ]
    },
    {
     "name": "stdout",
     "output_type": "stream",
     "text": [
      "Epoch 1/50\n",
      " 6/88 [=>............................] - ETA: 5s - loss: 2.3018 - accuracy: 0.1006 - auc: 0.5105WARNING:tensorflow:Callback method `on_train_batch_end` is slow compared to the batch time (batch time: 0.0253s vs `on_train_batch_end` time: 0.0368s). Check your callbacks.\n",
      "88/88 [==============================] - 15s 105ms/step - loss: 2.1732 - accuracy: 0.1672 - auc: 0.6398 - val_loss: 1.7900 - val_accuracy: 0.3310 - val_auc: 0.8069\n",
      "Epoch 2/50\n",
      "88/88 [==============================] - 6s 65ms/step - loss: 1.6515 - accuracy: 0.3925 - auc: 0.8379 - val_loss: 1.4494 - val_accuracy: 0.4734 - val_auc: 0.8798\n",
      "Epoch 3/50\n",
      "88/88 [==============================] - 6s 65ms/step - loss: 1.3692 - accuracy: 0.5010 - auc: 0.8925 - val_loss: 1.1852 - val_accuracy: 0.5698 - val_auc: 0.9199\n",
      "Epoch 4/50\n",
      "88/88 [==============================] - 6s 65ms/step - loss: 1.1712 - accuracy: 0.5796 - auc: 0.9220 - val_loss: 1.0578 - val_accuracy: 0.6224 - val_auc: 0.9378\n",
      "Epoch 5/50\n",
      "88/88 [==============================] - 6s 65ms/step - loss: 1.0234 - accuracy: 0.6349 - auc: 0.9406 - val_loss: 0.9022 - val_accuracy: 0.6828 - val_auc: 0.9536\n",
      "Epoch 6/50\n",
      "88/88 [==============================] - 6s 67ms/step - loss: 0.9110 - accuracy: 0.6775 - auc: 0.9527 - val_loss: 0.8158 - val_accuracy: 0.7080 - val_auc: 0.9615\n",
      "Epoch 7/50\n",
      "88/88 [==============================] - 6s 65ms/step - loss: 0.8108 - accuracy: 0.7127 - auc: 0.9623 - val_loss: 0.7576 - val_accuracy: 0.7316 - val_auc: 0.9666\n",
      "Epoch 8/50\n",
      "88/88 [==============================] - 6s 65ms/step - loss: 0.7388 - accuracy: 0.7410 - auc: 0.9684 - val_loss: 0.6948 - val_accuracy: 0.7606 - val_auc: 0.9715\n",
      "Epoch 9/50\n",
      "88/88 [==============================] - 6s 65ms/step - loss: 0.6768 - accuracy: 0.7592 - auc: 0.9733 - val_loss: 0.7240 - val_accuracy: 0.7472 - val_auc: 0.9694\n",
      "Epoch 10/50\n",
      "88/88 [==============================] - 6s 65ms/step - loss: 0.6289 - accuracy: 0.7774 - auc: 0.9768 - val_loss: 0.6231 - val_accuracy: 0.7842 - val_auc: 0.9760\n",
      "Epoch 11/50\n",
      "88/88 [==============================] - 6s 66ms/step - loss: 0.5784 - accuracy: 0.7964 - auc: 0.9802 - val_loss: 0.6106 - val_accuracy: 0.7906 - val_auc: 0.9764\n",
      "Epoch 12/50\n",
      "88/88 [==============================] - 6s 67ms/step - loss: 0.5400 - accuracy: 0.8090 - auc: 0.9825 - val_loss: 0.5723 - val_accuracy: 0.8088 - val_auc: 0.9785\n",
      "Epoch 13/50\n",
      "88/88 [==============================] - 6s 65ms/step - loss: 0.5044 - accuracy: 0.8223 - auc: 0.9845 - val_loss: 0.5749 - val_accuracy: 0.8064 - val_auc: 0.9789\n",
      "Epoch 14/50\n",
      "88/88 [==============================] - 6s 65ms/step - loss: 0.4754 - accuracy: 0.8334 - auc: 0.9860 - val_loss: 0.5363 - val_accuracy: 0.8180 - val_auc: 0.9813\n",
      "Epoch 15/50\n",
      "88/88 [==============================] - 6s 66ms/step - loss: 0.4348 - accuracy: 0.8476 - auc: 0.9881 - val_loss: 0.5531 - val_accuracy: 0.8160 - val_auc: 0.9799\n",
      "Epoch 16/50\n",
      "88/88 [==============================] - 6s 65ms/step - loss: 0.4037 - accuracy: 0.8562 - auc: 0.9897 - val_loss: 0.5328 - val_accuracy: 0.8274 - val_auc: 0.9800\n",
      "Epoch 17/50\n",
      "88/88 [==============================] - 6s 65ms/step - loss: 0.3880 - accuracy: 0.8622 - auc: 0.9904 - val_loss: 0.5511 - val_accuracy: 0.8176 - val_auc: 0.9801\n",
      "Epoch 18/50\n",
      "88/88 [==============================] - 6s 65ms/step - loss: 0.3641 - accuracy: 0.8705 - auc: 0.9915 - val_loss: 0.5642 - val_accuracy: 0.8242 - val_auc: 0.9782\n",
      "Epoch 19/50\n",
      "88/88 [==============================] - 6s 65ms/step - loss: 0.3352 - accuracy: 0.8806 - auc: 0.9926 - val_loss: 0.5507 - val_accuracy: 0.8248 - val_auc: 0.9792\n",
      "Epoch 20/50\n",
      "88/88 [==============================] - 6s 67ms/step - loss: 0.3168 - accuracy: 0.8870 - auc: 0.9933 - val_loss: 0.5405 - val_accuracy: 0.8244 - val_auc: 0.9804\n",
      "Epoch 21/50\n",
      "88/88 [==============================] - 6s 66ms/step - loss: 0.2928 - accuracy: 0.8954 - auc: 0.9942 - val_loss: 0.5666 - val_accuracy: 0.8240 - val_auc: 0.9786\n",
      "Epoch 22/50\n",
      "88/88 [==============================] - 6s 66ms/step - loss: 0.2747 - accuracy: 0.9015 - auc: 0.9949 - val_loss: 0.5773 - val_accuracy: 0.8308 - val_auc: 0.9771\n",
      "Epoch 23/50\n",
      "88/88 [==============================] - 6s 66ms/step - loss: 0.2637 - accuracy: 0.9073 - auc: 0.9951 - val_loss: 0.5908 - val_accuracy: 0.8298 - val_auc: 0.9770\n",
      "Epoch 24/50\n",
      "88/88 [==============================] - 6s 66ms/step - loss: 0.2469 - accuracy: 0.9113 - auc: 0.9956 - val_loss: 0.5754 - val_accuracy: 0.8272 - val_auc: 0.9774\n",
      "Epoch 25/50\n",
      "88/88 [==============================] - 6s 65ms/step - loss: 0.2386 - accuracy: 0.9146 - auc: 0.9958 - val_loss: 0.6242 - val_accuracy: 0.8224 - val_auc: 0.9745\n",
      "Epoch 26/50\n",
      "88/88 [==============================] - 6s 66ms/step - loss: 0.2254 - accuracy: 0.9210 - auc: 0.9962 - val_loss: 0.5920 - val_accuracy: 0.8268 - val_auc: 0.9777\n",
      "Epoch 27/50\n",
      "88/88 [==============================] - 6s 65ms/step - loss: 0.2040 - accuracy: 0.9268 - auc: 0.9969 - val_loss: 0.6131 - val_accuracy: 0.8270 - val_auc: 0.9753\n",
      "Epoch 28/50\n",
      "88/88 [==============================] - 6s 65ms/step - loss: 0.1995 - accuracy: 0.9286 - auc: 0.9970 - val_loss: 0.6098 - val_accuracy: 0.8340 - val_auc: 0.9754\n",
      "Epoch 29/50\n",
      "88/88 [==============================] - 6s 65ms/step - loss: 0.1905 - accuracy: 0.9334 - auc: 0.9970 - val_loss: 0.6126 - val_accuracy: 0.8290 - val_auc: 0.9749\n",
      "Epoch 30/50\n",
      "88/88 [==============================] - 6s 65ms/step - loss: 0.1883 - accuracy: 0.9325 - auc: 0.9972 - val_loss: 0.6297 - val_accuracy: 0.8290 - val_auc: 0.9738\n",
      "Epoch 31/50\n",
      "88/88 [==============================] - 6s 65ms/step - loss: 0.1777 - accuracy: 0.9376 - auc: 0.9973 - val_loss: 0.6500 - val_accuracy: 0.8246 - val_auc: 0.9734\n",
      "Epoch 32/50\n",
      "88/88 [==============================] - 6s 65ms/step - loss: 0.1672 - accuracy: 0.9404 - auc: 0.9977 - val_loss: 0.6379 - val_accuracy: 0.8300 - val_auc: 0.9731\n",
      "Epoch 33/50\n",
      "88/88 [==============================] - 6s 65ms/step - loss: 0.1622 - accuracy: 0.9418 - auc: 0.9977 - val_loss: 0.6477 - val_accuracy: 0.8292 - val_auc: 0.9730\n",
      "Epoch 34/50\n",
      "88/88 [==============================] - 6s 65ms/step - loss: 0.1492 - accuracy: 0.9460 - auc: 0.9982 - val_loss: 0.6470 - val_accuracy: 0.8336 - val_auc: 0.9723\n",
      "Epoch 35/50\n",
      "88/88 [==============================] - 6s 65ms/step - loss: 0.1525 - accuracy: 0.9454 - auc: 0.9979 - val_loss: 0.6525 - val_accuracy: 0.8306 - val_auc: 0.9731\n",
      "Epoch 36/50\n",
      "88/88 [==============================] - 6s 65ms/step - loss: 0.1442 - accuracy: 0.9487 - auc: 0.9982 - val_loss: 0.6554 - val_accuracy: 0.8316 - val_auc: 0.9726\n",
      "Epoch 37/50\n",
      "88/88 [==============================] - 6s 65ms/step - loss: 0.1442 - accuracy: 0.9482 - auc: 0.9981 - val_loss: 0.6648 - val_accuracy: 0.8302 - val_auc: 0.9725\n",
      "Epoch 38/50\n",
      "88/88 [==============================] - 6s 65ms/step - loss: 0.1392 - accuracy: 0.9516 - auc: 0.9982 - val_loss: 0.6819 - val_accuracy: 0.8316 - val_auc: 0.9710\n",
      "Epoch 39/50\n",
      "88/88 [==============================] - 6s 65ms/step - loss: 0.1367 - accuracy: 0.9529 - auc: 0.9981 - val_loss: 0.7040 - val_accuracy: 0.8282 - val_auc: 0.9697\n",
      "Epoch 40/50\n",
      "88/88 [==============================] - 6s 65ms/step - loss: 0.1323 - accuracy: 0.9535 - auc: 0.9982 - val_loss: 0.6870 - val_accuracy: 0.8258 - val_auc: 0.9711\n",
      "Epoch 41/50\n",
      "88/88 [==============================] - 6s 65ms/step - loss: 0.1243 - accuracy: 0.9562 - auc: 0.9984 - val_loss: 0.6645 - val_accuracy: 0.8358 - val_auc: 0.9722\n",
      "Epoch 42/50\n",
      "88/88 [==============================] - 6s 65ms/step - loss: 0.1242 - accuracy: 0.9576 - auc: 0.9984 - val_loss: 0.6706 - val_accuracy: 0.8298 - val_auc: 0.9726\n",
      "Epoch 43/50\n",
      "88/88 [==============================] - 6s 65ms/step - loss: 0.1331 - accuracy: 0.9535 - auc: 0.9982 - val_loss: 0.6914 - val_accuracy: 0.8286 - val_auc: 0.9707\n",
      "Epoch 44/50\n",
      "88/88 [==============================] - 6s 66ms/step - loss: 0.1191 - accuracy: 0.9588 - auc: 0.9986 - val_loss: 0.7165 - val_accuracy: 0.8334 - val_auc: 0.9702\n",
      "Epoch 45/50\n",
      "88/88 [==============================] - 6s 66ms/step - loss: 0.1210 - accuracy: 0.9562 - auc: 0.9985 - val_loss: 0.6757 - val_accuracy: 0.8346 - val_auc: 0.9708\n",
      "Epoch 46/50\n",
      "88/88 [==============================] - 6s 65ms/step - loss: 0.1179 - accuracy: 0.9586 - auc: 0.9984 - val_loss: 0.7511 - val_accuracy: 0.8254 - val_auc: 0.9675\n",
      "Epoch 47/50\n",
      "88/88 [==============================] - 6s 65ms/step - loss: 0.1115 - accuracy: 0.9606 - auc: 0.9986 - val_loss: 0.7114 - val_accuracy: 0.8360 - val_auc: 0.9691\n",
      "Epoch 48/50\n",
      "88/88 [==============================] - 6s 65ms/step - loss: 0.1074 - accuracy: 0.9626 - auc: 0.9986 - val_loss: 0.7234 - val_accuracy: 0.8252 - val_auc: 0.9689\n",
      "Epoch 49/50\n",
      "88/88 [==============================] - 6s 65ms/step - loss: 0.1114 - accuracy: 0.9614 - auc: 0.9986 - val_loss: 0.7247 - val_accuracy: 0.8240 - val_auc: 0.9700\n",
      "Epoch 50/50\n",
      "88/88 [==============================] - 6s 65ms/step - loss: 0.1019 - accuracy: 0.9646 - auc: 0.9986 - val_loss: 0.7706 - val_accuracy: 0.8308 - val_auc: 0.9680\n",
      "1/1 [==============================] - 0s 200ms/step\n"
     ]
    },
    {
     "name": "stderr",
     "output_type": "stream",
     "text": [
      "WARNING:absl:Found untraced functions such as _jit_compiled_convolution_op, _jit_compiled_convolution_op, _jit_compiled_convolution_op, _jit_compiled_convolution_op, _jit_compiled_convolution_op while saving (showing 5 of 6). These functions will not be directly callable after loading.\n"
     ]
    },
    {
     "name": "stdout",
     "output_type": "stream",
     "text": [
      "INFO:tensorflow:Assets written to: C:\\Users\\Owner\\AppData\\Local\\Temp\\tmp_vu30xm7\\model\\data\\model\\assets\n"
     ]
    },
    {
     "name": "stderr",
     "output_type": "stream",
     "text": [
      "INFO:tensorflow:Assets written to: C:\\Users\\Owner\\AppData\\Local\\Temp\\tmp_vu30xm7\\model\\data\\model\\assets\n",
      "2023/01/16 00:56:31 WARNING mlflow.utils.autologging_utils: MLflow autologging encountered a warning: \"C:\\Users\\Owner\\source\\repos\\myMLenv\\.venv\\lib\\site-packages\\_distutils_hack\\__init__.py:33: UserWarning: Setuptools is replacing distutils.\"\n"
     ]
    },
    {
     "data": {
      "text/plain": [
       "<keras.callbacks.History at 0x223c243adf0>"
      ]
     },
     "execution_count": 13,
     "metadata": {},
     "output_type": "execute_result"
    }
   ],
   "source": [
    "model.fit(X_train, y_train,\n",
    "            batch_size=512,\n",
    "            epochs=50,\n",
    "            verbose=1,\n",
    "            validation_split=0.1,\n",
    "            shuffle=True\n",
    ")"
   ]
  },
  {
   "cell_type": "code",
   "execution_count": 14,
   "id": "f5b5e573-c795-4d18-86b4-d66e154862be",
   "metadata": {},
   "outputs": [
    {
     "name": "stdout",
     "output_type": "stream",
     "text": [
      "313/313 [==============================] - 2s 5ms/step - loss: 0.8168 - accuracy: 0.8251 - auc: 0.9636\n"
     ]
    },
    {
     "data": {
      "text/plain": [
       "[0.8168140053749084, 0.8251000046730042, 0.9636437892913818]"
      ]
     },
     "execution_count": 14,
     "metadata": {},
     "output_type": "execute_result"
    }
   ],
   "source": [
    "model.evaluate(X_test, y_test)"
   ]
  },
  {
   "cell_type": "markdown",
   "id": "574f4072-b0c0-4006-8a3b-ca80e00c2950",
   "metadata": {},
   "source": [
    "ターミナルで`samples`フォルダに移動し、`mlflow ui`を実行する。\n",
    "\n",
    "MLflow http://127.0.0.1:5000/\n",
    "\n",
    "アクセスすると、結果が保存されていることを確認できる。"
   ]
  },
  {
   "cell_type": "markdown",
   "id": "1d31a282-316c-4df8-a49b-532d17c0418d",
   "metadata": {},
   "source": [
    "## MLflow によるモデルの保存とロード\n",
    "モデルは自動的に保存される。明示的に保存する場合は以下のようにする。"
   ]
  },
  {
   "cell_type": "code",
   "execution_count": 17,
   "id": "4bc5f946-3bee-49cb-8448-8640d17b0728",
   "metadata": {},
   "outputs": [],
   "source": [
    " #mlflow.tensorflow.log_model(model, 'cnn_4_layers')"
   ]
  },
  {
   "cell_type": "markdown",
   "id": "1355d99c-f148-4d87-a659-032cc21a94a0",
   "metadata": {},
   "source": [
    "**MLflowのバグでWindowsだとファイルパス周りがおかしくなり、MLflowのロード機能がまともに使えない。そんな・・・**"
   ]
  },
  {
   "cell_type": "markdown",
   "id": "4e03926f-bed5-4b13-90b1-efab7cac23e4",
   "metadata": {},
   "source": [
    "しょうがないのでtensorflowで直接ロードする\n",
    "\n",
    "pathはmlflowで確認できる"
   ]
  },
  {
   "cell_type": "code",
   "execution_count": 58,
   "id": "f60e7df8-c2a7-41d7-90eb-764c16670cf4",
   "metadata": {},
   "outputs": [],
   "source": [
    "model = tf.keras.models.load_model(\"mlruns/220654029583824991/3ede8207c71d4620ba18b3fa0e4c0c41/artifacts/model/data/model\")"
   ]
  },
  {
   "cell_type": "code",
   "execution_count": 65,
   "id": "3075aa06-474d-47a7-bf84-11f72a339d71",
   "metadata": {},
   "outputs": [
    {
     "name": "stdout",
     "output_type": "stream",
     "text": [
      "313/313 [==============================] - 9s 4ms/step - loss: 0.8168 - accuracy: 0.8251 - auc: 0.9636\n"
     ]
    },
    {
     "data": {
      "text/plain": [
       "[0.8168140649795532, 0.8251000046730042, 0.9636437892913818]"
      ]
     },
     "execution_count": 65,
     "metadata": {},
     "output_type": "execute_result"
    }
   ],
   "source": [
    "model.evaluate(X_test, y_test)"
   ]
  }
 ],
 "metadata": {
  "kernelspec": {
   "display_name": "Python 3 (ipykernel)",
   "language": "python",
   "name": "python3"
  },
  "language_info": {
   "codemirror_mode": {
    "name": "ipython",
    "version": 3
   },
   "file_extension": ".py",
   "mimetype": "text/x-python",
   "name": "python",
   "nbconvert_exporter": "python",
   "pygments_lexer": "ipython3",
   "version": "3.8.10"
  },
  "vscode": {
   "interpreter": {
    "hash": "edf762d33df07f24685c8d0b1527834385dd473ae5e8a0827ad649d2f2919f90"
   }
  }
 },
 "nbformat": 4,
 "nbformat_minor": 5
}
